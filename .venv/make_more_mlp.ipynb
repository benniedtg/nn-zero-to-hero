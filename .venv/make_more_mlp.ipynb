{
 "cells": [
  {
   "cell_type": "code",
   "execution_count": 1,
   "id": "f583832e",
   "metadata": {},
   "outputs": [],
   "source": [
    "import torch \n",
    "import torch.nn.functional as F\n",
    "import matplotlib.pyplot as plt\n",
    "%matplotlib inline\n"
   ]
  },
  {
   "cell_type": "code",
   "execution_count": 2,
   "id": "42617293",
   "metadata": {},
   "outputs": [
    {
     "data": {
      "text/plain": [
       "['emma', 'olivia', 'ava', 'isabella', 'sophia', 'charlotte', 'mia', 'amelia']"
      ]
     },
     "execution_count": 2,
     "metadata": {},
     "output_type": "execute_result"
    }
   ],
   "source": [
    "# read in all the words\n",
    "words = open('names.txt', 'r').read().splitlines()\n",
    "words[:8]\n"
   ]
  },
  {
   "cell_type": "code",
   "execution_count": 3,
   "id": "c28eb32c",
   "metadata": {},
   "outputs": [
    {
     "data": {
      "text/plain": [
       "32033"
      ]
     },
     "execution_count": 3,
     "metadata": {},
     "output_type": "execute_result"
    }
   ],
   "source": [
    "len(words)\n"
   ]
  },
  {
   "cell_type": "code",
   "execution_count": 4,
   "id": "668e0e3a",
   "metadata": {},
   "outputs": [
    {
     "name": "stdout",
     "output_type": "stream",
     "text": [
      "{1: 'a', 2: 'b', 3: 'c', 4: 'd', 5: 'e', 6: 'f', 7: 'g', 8: 'h', 9: 'i', 10: 'j', 11: 'k', 12: 'l', 13: 'm', 14: 'n', 15: 'o', 16: 'p', 17: 'q', 18: 'r', 19: 's', 20: 't', 21: 'u', 22: 'v', 23: 'w', 24: 'x', 25: 'y', 26: 'z', 0: '.'}\n"
     ]
    }
   ],
   "source": [
    "# build the vocabulary of characters and mappings to/from integers\n",
    "chars = sorted(list(set(''.join(words))))\n",
    "stoi={s:i+1 for i, s in enumerate(chars)}\n",
    "stoi['.'] = 0\n",
    "itos = {i:s for s,i in stoi.items()}\n",
    "print(itos)\n"
   ]
  },
  {
   "cell_type": "code",
   "execution_count": 5,
   "id": "f15cff97",
   "metadata": {},
   "outputs": [
    {
     "name": "stdout",
     "output_type": "stream",
     "text": [
      "torch.Size([182625, 3]) torch.Size([182625])\n",
      "torch.Size([22655, 3]) torch.Size([22655])\n",
      "torch.Size([22866, 3]) torch.Size([22866])\n"
     ]
    }
   ],
   "source": [
    "# build the dataset\n",
    "def build_dataset(words):\n",
    "    block_size = 3 # context length: how many characters do we take to predict the next one?\n",
    "    X, Y = [], []\n",
    "    for w in words:\n",
    "        # print(w)\n",
    "        context = [0] * block_size\n",
    "        for ch in w + '.':\n",
    "            ix = stoi[ch]\n",
    "            X.append(context)\n",
    "            Y.append(ix)\n",
    "            # print(''.join(itos[i] for i in context), '---->', itos[ix])\n",
    "            context = context[1:] + [ix] #crop and append\n",
    "\n",
    "    X = torch.tensor(X)\n",
    "    Y = torch.tensor(Y)\n",
    "    print(X.shape, Y.shape)\n",
    "    return X, Y\n",
    "\n",
    "# training, dev, and test split\n",
    "# 80%, 10%, 10% \n",
    "import random\n",
    "random.seed(42)\n",
    "random.shuffle(words)\n",
    "n1 = int(0.8 * len(words))\n",
    "n2 = int(0.9 * len(words))\n",
    "\n",
    "Xtr, Ytr = build_dataset(words[:n1])\n",
    "Xdev, Ydev = build_dataset(words[n1:n2])\n",
    "Xtest, Ytest = build_dataset(words[n2:])\n",
    "\n",
    "\n"
   ]
  },
  {
   "cell_type": "code",
   "execution_count": 6,
   "id": "f5153c56",
   "metadata": {},
   "outputs": [],
   "source": [
    "C = torch.randn((27,2))\n"
   ]
  },
  {
   "cell_type": "code",
   "execution_count": 7,
   "id": "797b44d9",
   "metadata": {},
   "outputs": [],
   "source": [
    "W1 = torch.randn((6,100))\n",
    "b1 = torch.randn(100)\n"
   ]
  },
  {
   "cell_type": "code",
   "execution_count": 8,
   "id": "a05f6969",
   "metadata": {},
   "outputs": [
    {
     "ename": "NameError",
     "evalue": "name 'emb' is not defined",
     "output_type": "error",
     "traceback": [
      "\u001b[31m---------------------------------------------------------------------------\u001b[39m",
      "\u001b[31mNameError\u001b[39m                                 Traceback (most recent call last)",
      "\u001b[36mCell\u001b[39m\u001b[36m \u001b[39m\u001b[32mIn[8]\u001b[39m\u001b[32m, line 1\u001b[39m\n\u001b[32m----> \u001b[39m\u001b[32m1\u001b[39m torch.cat([\u001b[43memb\u001b[49m[:, \u001b[32m0\u001b[39m, :], emb[:, \u001b[32m1\u001b[39m, :], emb[:, \u001b[32m2\u001b[39m,:]], \u001b[32m1\u001b[39m).shape\n",
      "\u001b[31mNameError\u001b[39m: name 'emb' is not defined"
     ]
    }
   ],
   "source": [
    "torch.cat([emb[:, 0, :], emb[:, 1, :], emb[:, 2,:]], 1).shape\n"
   ]
  },
  {
   "cell_type": "code",
   "execution_count": null,
   "id": "b957e5e4",
   "metadata": {},
   "outputs": [
    {
     "data": {
      "text/plain": [
       "torch.Size([228146, 6])"
      ]
     },
     "execution_count": 138,
     "metadata": {},
     "output_type": "execute_result"
    }
   ],
   "source": [
    "torch.cat(torch.unbind(emb, 1), 1).shape\n"
   ]
  },
  {
   "cell_type": "code",
   "execution_count": null,
   "id": "25604ba9",
   "metadata": {},
   "outputs": [],
   "source": [
    "a = torch.arange(18)\n"
   ]
  },
  {
   "cell_type": "code",
   "execution_count": null,
   "id": "e24bef47",
   "metadata": {},
   "outputs": [
    {
     "data": {
      "text/plain": [
       "torch.Size([18])"
      ]
     },
     "execution_count": 140,
     "metadata": {},
     "output_type": "execute_result"
    }
   ],
   "source": [
    "a.shape\n"
   ]
  },
  {
   "cell_type": "code",
   "execution_count": null,
   "id": "8edf1754",
   "metadata": {},
   "outputs": [
    {
     "data": {
      "text/plain": [
       "tensor([[[ 0,  1],\n",
       "         [ 2,  3],\n",
       "         [ 4,  5]],\n",
       "\n",
       "        [[ 6,  7],\n",
       "         [ 8,  9],\n",
       "         [10, 11]],\n",
       "\n",
       "        [[12, 13],\n",
       "         [14, 15],\n",
       "         [16, 17]]])"
      ]
     },
     "execution_count": 141,
     "metadata": {},
     "output_type": "execute_result"
    }
   ],
   "source": [
    "a.view(3, 3, 2)\n"
   ]
  },
  {
   "cell_type": "code",
   "execution_count": null,
   "id": "945a347e",
   "metadata": {},
   "outputs": [
    {
     "data": {
      "text/plain": [
       "torch.Size([228146, 3, 2])"
      ]
     },
     "execution_count": 142,
     "metadata": {},
     "output_type": "execute_result"
    }
   ],
   "source": [
    "emb.shape\n"
   ]
  },
  {
   "cell_type": "code",
   "execution_count": null,
   "id": "f7ffe82f",
   "metadata": {},
   "outputs": [
    {
     "ename": "RuntimeError",
     "evalue": "shape '[32, 6]' is invalid for input of size 1368876",
     "output_type": "error",
     "traceback": [
      "\u001b[31m---------------------------------------------------------------------------\u001b[39m",
      "\u001b[31mRuntimeError\u001b[39m                              Traceback (most recent call last)",
      "\u001b[36mCell\u001b[39m\u001b[36m \u001b[39m\u001b[32mIn[155]\u001b[39m\u001b[32m, line 1\u001b[39m\n\u001b[32m----> \u001b[39m\u001b[32m1\u001b[39m \u001b[43memb\u001b[49m\u001b[43m.\u001b[49m\u001b[43mview\u001b[49m\u001b[43m(\u001b[49m\u001b[32;43m32\u001b[39;49m\u001b[43m,\u001b[49m\u001b[32;43m6\u001b[39;49m\u001b[43m)\u001b[49m\n",
      "\u001b[31mRuntimeError\u001b[39m: shape '[32, 6]' is invalid for input of size 1368876"
     ]
    }
   ],
   "source": [
    "emb.view(32,6)\n"
   ]
  },
  {
   "cell_type": "code",
   "execution_count": null,
   "id": "10eb49c5",
   "metadata": {},
   "outputs": [],
   "source": [
    "h = torch.tanh(emb.view(-1,6) @ W1 + b1)\n"
   ]
  },
  {
   "cell_type": "code",
   "execution_count": null,
   "id": "065b275c",
   "metadata": {},
   "outputs": [
    {
     "data": {
      "text/plain": [
       "torch.Size([228146, 100])"
      ]
     },
     "execution_count": 157,
     "metadata": {},
     "output_type": "execute_result"
    }
   ],
   "source": [
    "h.shape\n"
   ]
  },
  {
   "cell_type": "code",
   "execution_count": null,
   "id": "5d5ad3d9",
   "metadata": {},
   "outputs": [],
   "source": [
    "W2 = torch.randn((100,27))\n",
    "b2 = torch.randn(27)\n"
   ]
  },
  {
   "cell_type": "code",
   "execution_count": null,
   "id": "6cb3d7ef",
   "metadata": {},
   "outputs": [
    {
     "data": {
      "text/plain": [
       "torch.Size([228146, 27])"
      ]
     },
     "execution_count": 159,
     "metadata": {},
     "output_type": "execute_result"
    }
   ],
   "source": [
    "logits = h @ W2 + b2\n",
    "logits.shape\n"
   ]
  },
  {
   "cell_type": "code",
   "execution_count": null,
   "id": "91316bf1",
   "metadata": {},
   "outputs": [],
   "source": [
    "counts = logits.exp()\n",
    "prob = counts/counts.sum(1, keepdim=True)\n"
   ]
  },
  {
   "cell_type": "code",
   "execution_count": null,
   "id": "70d92521",
   "metadata": {},
   "outputs": [
    {
     "ename": "IndexError",
     "evalue": "shape mismatch: indexing tensors could not be broadcast together with shapes [32], [228146]",
     "output_type": "error",
     "traceback": [
      "\u001b[31m---------------------------------------------------------------------------\u001b[39m",
      "\u001b[31mIndexError\u001b[39m                                Traceback (most recent call last)",
      "\u001b[36mCell\u001b[39m\u001b[36m \u001b[39m\u001b[32mIn[161]\u001b[39m\u001b[32m, line 1\u001b[39m\n\u001b[32m----> \u001b[39m\u001b[32m1\u001b[39m loss = -\u001b[43mprob\u001b[49m\u001b[43m[\u001b[49m\u001b[43mtorch\u001b[49m\u001b[43m.\u001b[49m\u001b[43marange\u001b[49m\u001b[43m(\u001b[49m\u001b[32;43m32\u001b[39;49m\u001b[43m)\u001b[49m\u001b[43m,\u001b[49m\u001b[43m \u001b[49m\u001b[43mY\u001b[49m\u001b[43m]\u001b[49m.log().mean()\n\u001b[32m      2\u001b[39m loss\n",
      "\u001b[31mIndexError\u001b[39m: shape mismatch: indexing tensors could not be broadcast together with shapes [32], [228146]"
     ]
    }
   ],
   "source": [
    "loss = -prob[torch.arange(32), Y].log().mean()\n",
    "loss\n"
   ]
  },
  {
   "cell_type": "markdown",
   "id": "3d350dc6",
   "metadata": {},
   "source": [
    "Make it respectable"
   ]
  },
  {
   "cell_type": "code",
   "execution_count": null,
   "id": "65dc149f",
   "metadata": {},
   "outputs": [
    {
     "data": {
      "text/plain": [
       "(torch.Size([182441, 3]), torch.Size([182441]))"
      ]
     },
     "execution_count": 236,
     "metadata": {},
     "output_type": "execute_result"
    }
   ],
   "source": [
    "\n",
    "Xtr.shape, Ytr.shape\n"
   ]
  },
  {
   "cell_type": "code",
   "execution_count": 22,
   "id": "24597d53",
   "metadata": {},
   "outputs": [],
   "source": [
    "g =torch.Generator().manual_seed(2147483647)\n",
    "C = torch.randn((27, 10), generator=g)\n",
    "W1 = torch.randn((30, 200), generator=g)\n",
    "b1 = torch.randn(200,generator=g)\n",
    "W2 = torch.randn((200,27), generator=g)\n",
    "b2 = torch.randn(27, generator=g)\n",
    "parameters = [C, W1, b1, W2, b2]\n"
   ]
  },
  {
   "cell_type": "code",
   "execution_count": 23,
   "id": "3b41c315",
   "metadata": {},
   "outputs": [
    {
     "data": {
      "text/plain": [
       "11897"
      ]
     },
     "execution_count": 23,
     "metadata": {},
     "output_type": "execute_result"
    }
   ],
   "source": [
    "sum(p.nelement() for p in parameters)\n"
   ]
  },
  {
   "cell_type": "code",
   "execution_count": null,
   "id": "2c7b0955",
   "metadata": {},
   "outputs": [],
   "source": [
    "\n",
    "for p in parameters:\n",
    "    p.requires_grad = True\n",
    "\n"
   ]
  },
  {
   "cell_type": "code",
   "execution_count": null,
   "id": "1013e72b",
   "metadata": {},
   "outputs": [],
   "source": [
    "lre = torch.linspace(-3, 0,1000)\n",
    "lrs = 10**lre\n"
   ]
  },
  {
   "cell_type": "code",
   "execution_count": null,
   "id": "0fcb95db",
   "metadata": {},
   "outputs": [],
   "source": [
    "lri = []\n",
    "lossi = []\n",
    "stepi = []\n"
   ]
  },
  {
   "cell_type": "code",
   "execution_count": null,
   "id": "038ff39c",
   "metadata": {},
   "outputs": [],
   "source": [
    "for i in range(200000):\n",
    "    # minibatch construct\n",
    "    ix = torch.randint(0, Xtr.shape[0], (32,))\n",
    "\n",
    "    # forward pass\n",
    "    emb = C[Xtr[ix]] #(32, 3, 2)\n",
    "    h = torch.tanh(emb.view(-1, 30) @ W1 + b1)\n",
    "    logits = h @ W2 + b2 # (32, 27)\n",
    "    # counts=logits.exp()\n",
    "    # prob = counts / counts.sum(1, keepdims=True)\n",
    "    # loss = -prob[torch.arange(32), Y].log().mean()\n",
    "    loss = F.cross_entropy(logits, Ytr[ix])\n",
    "    # print(loss.item())\n",
    "\n",
    "\n",
    "    # backward pass \n",
    "    for p in parameters:\n",
    "        p.grad = None\n",
    "    loss.backward()\n",
    "\n",
    "    # update \n",
    "    # lr = lrs[i]\n",
    "    lr = 0.1 if i<100000 else 0.01\n",
    "    for p in parameters:\n",
    "        p.data += -lr * p.grad\n",
    "        \n",
    "    stepi.append(i)\n",
    "    # lri.append(lr)\n",
    "    lossi.append(loss.log10().item()) \n"
   ]
  },
  {
   "cell_type": "code",
   "execution_count": 9,
   "id": "448eaf84",
   "metadata": {},
   "outputs": [
    {
     "ename": "NameError",
     "evalue": "name 'stepi' is not defined",
     "output_type": "error",
     "traceback": [
      "\u001b[31m---------------------------------------------------------------------------\u001b[39m",
      "\u001b[31mNameError\u001b[39m                                 Traceback (most recent call last)",
      "\u001b[36mCell\u001b[39m\u001b[36m \u001b[39m\u001b[32mIn[9]\u001b[39m\u001b[32m, line 1\u001b[39m\n\u001b[32m----> \u001b[39m\u001b[32m1\u001b[39m plt.plot(\u001b[43mstepi\u001b[49m, lossi)\n",
      "\u001b[31mNameError\u001b[39m: name 'stepi' is not defined"
     ]
    }
   ],
   "source": [
    "plt.plot(stepi, lossi)\n"
   ]
  },
  {
   "cell_type": "code",
   "execution_count": 10,
   "id": "de4e7d7f",
   "metadata": {},
   "outputs": [
    {
     "ename": "NameError",
     "evalue": "name 'loss' is not defined",
     "output_type": "error",
     "traceback": [
      "\u001b[31m---------------------------------------------------------------------------\u001b[39m",
      "\u001b[31mNameError\u001b[39m                                 Traceback (most recent call last)",
      "\u001b[36mCell\u001b[39m\u001b[36m \u001b[39m\u001b[32mIn[10]\u001b[39m\u001b[32m, line 1\u001b[39m\n\u001b[32m----> \u001b[39m\u001b[32m1\u001b[39m \u001b[38;5;28mprint\u001b[39m(\u001b[43mloss\u001b[49m.item())\n\u001b[32m      2\u001b[39m \u001b[38;5;66;03m# re run again\u001b[39;00m\n",
      "\u001b[31mNameError\u001b[39m: name 'loss' is not defined"
     ]
    }
   ],
   "source": [
    "print(loss.item())\n",
    "# re run again\n"
   ]
  },
  {
   "cell_type": "code",
   "execution_count": 11,
   "id": "3b2efd0e",
   "metadata": {},
   "outputs": [
    {
     "ename": "RuntimeError",
     "evalue": "mat1 and mat2 shapes cannot be multiplied (4531x30 and 6x100)",
     "output_type": "error",
     "traceback": [
      "\u001b[31m---------------------------------------------------------------------------\u001b[39m",
      "\u001b[31mRuntimeError\u001b[39m                              Traceback (most recent call last)",
      "\u001b[36mCell\u001b[39m\u001b[36m \u001b[39m\u001b[32mIn[11]\u001b[39m\u001b[32m, line 2\u001b[39m\n\u001b[32m      1\u001b[39m emb = C[Xdev] \u001b[38;5;66;03m#(32, 3, 2)\u001b[39;00m\n\u001b[32m----> \u001b[39m\u001b[32m2\u001b[39m h = torch.tanh(\u001b[43memb\u001b[49m\u001b[43m.\u001b[49m\u001b[43mview\u001b[49m\u001b[43m(\u001b[49m\u001b[43m-\u001b[49m\u001b[32;43m1\u001b[39;49m\u001b[43m,\u001b[49m\u001b[43m \u001b[49m\u001b[32;43m30\u001b[39;49m\u001b[43m)\u001b[49m\u001b[43m \u001b[49m\u001b[43m@\u001b[49m\u001b[43m \u001b[49m\u001b[43mW1\u001b[49m + b1)\n\u001b[32m      3\u001b[39m logits = h @ W2 + b2 \u001b[38;5;66;03m# (32, 27)\u001b[39;00m\n\u001b[32m      4\u001b[39m loss = F.cross_entropy(logits, Ydev)\n",
      "\u001b[31mRuntimeError\u001b[39m: mat1 and mat2 shapes cannot be multiplied (4531x30 and 6x100)"
     ]
    }
   ],
   "source": [
    "emb = C[Xdev] #(32, 3, 2)\n",
    "h = torch.tanh(emb.view(-1, 30) @ W1 + b1)\n",
    "logits = h @ W2 + b2 # (32, 27)\n",
    "loss = F.cross_entropy(logits, Ydev)\n",
    "loss.item()\n"
   ]
  },
  {
   "cell_type": "code",
   "execution_count": 12,
   "id": "1119859a",
   "metadata": {},
   "outputs": [
    {
     "ename": "RuntimeError",
     "evalue": "mat1 and mat2 shapes cannot be multiplied (36525x30 and 6x100)",
     "output_type": "error",
     "traceback": [
      "\u001b[31m---------------------------------------------------------------------------\u001b[39m",
      "\u001b[31mRuntimeError\u001b[39m                              Traceback (most recent call last)",
      "\u001b[36mCell\u001b[39m\u001b[36m \u001b[39m\u001b[32mIn[12]\u001b[39m\u001b[32m, line 2\u001b[39m\n\u001b[32m      1\u001b[39m emb = C[Xtr] \u001b[38;5;66;03m#(32, 3, 2)\u001b[39;00m\n\u001b[32m----> \u001b[39m\u001b[32m2\u001b[39m h = torch.tanh(\u001b[43memb\u001b[49m\u001b[43m.\u001b[49m\u001b[43mview\u001b[49m\u001b[43m(\u001b[49m\u001b[43m-\u001b[49m\u001b[32;43m1\u001b[39;49m\u001b[43m,\u001b[49m\u001b[43m \u001b[49m\u001b[32;43m30\u001b[39;49m\u001b[43m)\u001b[49m\u001b[43m \u001b[49m\u001b[43m@\u001b[49m\u001b[43m \u001b[49m\u001b[43mW1\u001b[49m + b1)\n\u001b[32m      3\u001b[39m logits = h @ W2 + b2 \u001b[38;5;66;03m# (32, 27)\u001b[39;00m\n\u001b[32m      4\u001b[39m loss = F.cross_entropy(logits, Ytr)\n",
      "\u001b[31mRuntimeError\u001b[39m: mat1 and mat2 shapes cannot be multiplied (36525x30 and 6x100)"
     ]
    }
   ],
   "source": [
    "emb = C[Xtr] #(32, 3, 2)\n",
    "h = torch.tanh(emb.view(-1, 30) @ W1 + b1)\n",
    "logits = h @ W2 + b2 # (32, 27)\n",
    "loss = F.cross_entropy(logits, Ytr)\n",
    "loss.item()\n"
   ]
  },
  {
   "cell_type": "code",
   "execution_count": 13,
   "id": "2d359477",
   "metadata": {},
   "outputs": [
    {
     "data": {
      "image/png": "[encoded data removed]",
      "text/plain": [
       "<Figure size 800x800 with 1 Axes>"
      ]
     },
     "metadata": {},
     "output_type": "display_data"
    }
   ],
   "source": [
    "plt.figure(figsize = (8,8))\n",
    "plt.scatter(C[:, 0].data, C[:, 1].data, s =200)\n",
    "for i in range(C.shape[0]):\n",
    "    plt.text(C[i, 0].item(), C[i, 1].item(), itos[i], ha = \"center\", va=\"center\", color=\"white\")\n",
    "plt.grid(\"minor\")\n"
   ]
  },
  {
   "cell_type": "markdown",
   "id": "321dba84",
   "metadata": {},
   "source": [
    "Exercises"
   ]
  },
  {
   "cell_type": "markdown",
   "id": "028dbc03",
   "metadata": {},
   "source": [
    "### E01: Tune the hyperparameters of the training to beat my best validation loss of 2.2"
   ]
  },
  {
   "cell_type": "markdown",
   "id": "415d9fdf",
   "metadata": {},
   "source": [
    "* no of neurons in the hidden layer\n",
    "\n",
    "* embedding size\n",
    "\n",
    "* no of characters\n",
    "\n",
    "* epochs\n",
    "\n",
    "* learning rate; change/decay it over the epochs\n",
    "\n",
    "* batch size"
   ]
  },
  {
   "cell_type": "code",
   "execution_count": 14,
   "id": "0fa366dd",
   "metadata": {},
   "outputs": [],
   "source": [
    "from tqdm import tqdm\n",
    "import numpy as np\n",
    "import torch\n",
    "import torch.nn.functional as F\n",
    "import math\n"
   ]
  },
  {
   "cell_type": "code",
   "execution_count": null,
   "id": "7b860d0e",
   "metadata": {},
   "outputs": [],
   "source": [
    "g =torch.Generator().manual_seed(2147483647)\n",
    "# build the dataset\n",
    "def build_dataset(words):\n",
    "    block_size = 3 # context length: how many characters do we take to predict the next one?\n",
    "    X, Y = [], []\n",
    "    for w in words:\n",
    "        # print(w)\n",
    "        context = [0] * block_size\n",
    "        for ch in w + '.':\n",
    "            ix = stoi[ch]\n",
    "            X.append(context)\n",
    "            Y.append(ix)\n",
    "            # print(''.join(itos[i] for i in context), '---->', itos[ix])\n",
    "            context = context[1:] + [ix] #crop and append\n",
    "\n",
    "    X = torch.tensor(X)\n",
    "    Y = torch.tensor(Y)\n",
    "    print(X.shape, Y.shape)\n",
    "    return X, Y\n"
   ]
  },
  {
   "cell_type": "code",
   "execution_count": 25,
   "id": "0907880f",
   "metadata": {},
   "outputs": [
    {
     "name": "stdout",
     "output_type": "stream",
     "text": [
      "torch.Size([182437, 3]) torch.Size([182437])\n",
      "torch.Size([22781, 3]) torch.Size([22781])\n",
      "torch.Size([22928, 3]) torch.Size([22928])\n"
     ]
    }
   ],
   "source": [
    "\n",
    "# training, dev, and test split\n",
    "# 80%, 10%, 10% \n",
    "import random\n",
    "random.seed(42)\n",
    "random.shuffle(words)\n",
    "n1 = int(0.8 * len(words))\n",
    "n2 = int(0.9 * len(words))\n",
    "\n",
    "Xtr, Ytr = build_dataset(words[:n1])\n",
    "Xdev, Ydev = build_dataset(words[n1:n2])\n",
    "Xtest, Ytest = build_dataset(words[n2:])\n",
    "\n"
   ]
  },
  {
   "cell_type": "code",
   "execution_count": 26,
   "id": "45160b6a",
   "metadata": {},
   "outputs": [],
   "source": [
    "def eval_loss(parameters, X, Y, block_size = 3, embedding_size = 10):\n",
    "    # forward pass\n",
    "    C, W1, b1, W2, b2 = parameters\n",
    "    emb = C[X] #(32, 3, 2)\n",
    "    h = torch.tanh(emb.view(-1, block_size* embedding_size) @ W1 + b1)\n",
    "    logits = h @ W2 + b2 # (32, 27)\n",
    "    # counts=logits.exp()\n",
    "    # prob = counts / counts.sum(1, keepdims=True)\n",
    "    # loss = -prob[torch.arange(32), Y].log().mean()\n",
    "    loss = F.cross_entropy(logits, Y)\n",
    "    # print(loss.item())\n",
    "    return loss\n",
    "\n"
   ]
  },
  {
   "cell_type": "code",
   "execution_count": 27,
   "id": "15b5817b",
   "metadata": {},
   "outputs": [],
   "source": [
    "# g =torch.Generator().manual_seed(2147483647)\n",
    "# C = torch.randn((27,10), generator=g)\n",
    "# W1 = torch.randn((30, 300), generator=g)\n",
    "# b1 = torch.randn(300,generator=g)\n",
    "# W2 = torch.randn((300,27), generator=g)\n",
    "# b2 = torch.randn(27, generator=g)\n",
    "# parameters = [C, W1, b1, W2, b2]\n"
   ]
  },
  {
   "cell_type": "markdown",
   "id": "acc179c9",
   "metadata": {},
   "source": [
    "Add a smoothing function"
   ]
  },
  {
   "cell_type": "code",
   "execution_count": 28,
   "id": "0bedbee6",
   "metadata": {},
   "outputs": [],
   "source": [
    "def _smmoothing_loss(parameters, lambdas):\n",
    "    C = parameters[0]\n",
    "    W1 = parameters[1]\n",
    "    W2 = parameters[3]\n",
    "    return lambdas[0]*(C**2).mean() + lambdas[1]*(W1**2).mean() + lambdas[2]*(W2**2).mean()\n"
   ]
  },
  {
   "cell_type": "code",
   "execution_count": 39,
   "id": "e2246903",
   "metadata": {},
   "outputs": [],
   "source": [
    "def train(X, Y, epochs, block_size=3, batch_size=32, embedding_size=10, hidden_neuron=10, parameters=[], lambdas=[0, 0, 0], lr = 0.1):\n",
    "    if not parameters:\n",
    "        # Initialize parameters if not provided\n",
    "        C = torch.randn((27, embedding_size), generator=g)\n",
    "        W1 = torch.randn((block_size * embedding_size, hidden_neuron), generator=g)\n",
    "        b1 = torch.randn(hidden_neuron, generator=g)\n",
    "        W2 = torch.randn((hidden_neuron, 27), generator=g)\n",
    "        b2 = torch.randn(27, generator=g)\n",
    "        parameters = [C, W1, b1, W2, b2]\n",
    "\n",
    "    for p in parameters:\n",
    "        p.requires_grad = True\n",
    "\n",
    "    sum(p.nelement() for p in parameters)  # (not used, just counts parameters)\n",
    "\n",
    "    lre = torch.linspace(-3, 0, 1000)\n",
    "    lrs = 10**lre \n",
    "\n",
    "    i = 0  \n",
    "    batches_per_epoch = X.shape[0]\n",
    "    for epoch in range(epochs):\n",
    "        # Sample a minibatch\n",
    "        ix = torch.randint(0, X.shape[0], (batch_size,))\n",
    "        i += 1\n",
    "        # Forward pass: compute loss\n",
    "        loss = eval_loss(parameters, X[ix], Y[ix], block_size, embedding_size)\n",
    "        smmoothing_loss = _smmoothing_loss(parameters, lambdas)\n",
    "        loss += smmoothing_loss\n",
    "\n",
    "        # Backward pass\n",
    "        for p in parameters:\n",
    "            p.grad = None\n",
    "        loss.backward()\n",
    "\n",
    "        # Update parameters\n",
    "        for p in parameters:\n",
    "            p.data += -lr * p.grad\n",
    "\n",
    "        # track stats\n",
    "        if epoch % 10000 == 0: # print every once in a while\n",
    "            print(f'{i:7d}/{epochs:7d} steps: loss = {loss.item():.4f}')\n",
    "    \n",
    "    return parameters, loss.item()\n"
   ]
  },
  {
   "cell_type": "code",
   "execution_count": 40,
   "id": "96892226",
   "metadata": {},
   "outputs": [
    {
     "name": "stdout",
     "output_type": "stream",
     "text": [
      "      1/ 100000 steps: loss = 19.8007\n",
      "  10001/ 100000 steps: loss = 2.3119\n",
      "  20001/ 100000 steps: loss = 2.2044\n",
      "  30001/ 100000 steps: loss = 2.1627\n",
      "  40001/ 100000 steps: loss = 2.1721\n",
      "  50001/ 100000 steps: loss = 2.1371\n",
      "  60001/ 100000 steps: loss = 2.1039\n",
      "  70001/ 100000 steps: loss = 2.1277\n",
      "  80001/ 100000 steps: loss = 2.1130\n",
      "  90001/ 100000 steps: loss = 2.1180\n"
     ]
    }
   ],
   "source": [
    "parameters, loss = train(Xtr, Ytr, 100_000, block_size=3, embedding_size=50, hidden_neuron=100, batch_size=16384)\n"
   ]
  },
  {
   "cell_type": "code",
   "execution_count": 41,
   "id": "20e139e9",
   "metadata": {},
   "outputs": [
    {
     "data": {
      "text/plain": [
       "(2.080284357070923, tensor(2.1747, grad_fn=<NllLossBackward0>))"
      ]
     },
     "execution_count": 41,
     "metadata": {},
     "output_type": "execute_result"
    }
   ],
   "source": [
    "loss, eval_loss(parameters, Xdev, Ydev, block_size=3, embedding_size=50)\n"
   ]
  },
  {
   "cell_type": "markdown",
   "id": "48a8b804",
   "metadata": {},
   "source": [
    "After tuning the parameters by adding smoothing of the training to get the loss of 2.08 in the validation set"
   ]
  },
  {
   "cell_type": "code",
   "execution_count": null,
   "id": "756efaee",
   "metadata": {},
   "outputs": [],
   "source": []
  }
 ],
 "metadata": {
  "kernelspec": {
   "display_name": ".venv",
   "language": "python",
   "name": "python3"
  },
  "language_info": {
   "codemirror_mode": {
    "name": "ipython",
    "version": 3
   },
   "file_extension": ".py",
   "mimetype": "text/x-python",
   "name": "python",
   "nbconvert_exporter": "python",
   "pygments_lexer": "ipython3",
   "version": "3.12.6"
  }
 },
 "nbformat": 4,
 "nbformat_minor": 5
}
